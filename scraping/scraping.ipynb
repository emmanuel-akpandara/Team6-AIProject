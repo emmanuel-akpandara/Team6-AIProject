{
 "cells": [
  {
   "cell_type": "code",
   "execution_count": 11,
   "id": "initial_id",
   "metadata": {
    "ExecuteTime": {
     "end_time": "2023-11-06T15:33:39.624263Z",
     "start_time": "2023-11-06T15:33:39.549204Z"
    },
    "collapsed": true
   },
   "outputs": [
    {
     "name": "stdout",
     "output_type": "stream",
     "text": [
      "Requirement already satisfied: requests in /Library/Frameworks/Python.framework/Versions/3.11/lib/python3.11/site-packages (2.31.0)\n",
      "Requirement already satisfied: charset-normalizer<4,>=2 in /Library/Frameworks/Python.framework/Versions/3.11/lib/python3.11/site-packages (from requests) (3.2.0)\n",
      "Requirement already satisfied: idna<4,>=2.5 in /Library/Frameworks/Python.framework/Versions/3.11/lib/python3.11/site-packages (from requests) (3.4)\n",
      "Requirement already satisfied: urllib3<3,>=1.21.1 in /Library/Frameworks/Python.framework/Versions/3.11/lib/python3.11/site-packages (from requests) (2.0.5)\n",
      "Requirement already satisfied: certifi>=2017.4.17 in /Library/Frameworks/Python.framework/Versions/3.11/lib/python3.11/site-packages (from requests) (2023.7.22)\n",
      "\n",
      "\u001b[1m[\u001b[0m\u001b[34;49mnotice\u001b[0m\u001b[1;39;49m]\u001b[0m\u001b[39;49m A new release of pip is available: \u001b[0m\u001b[31;49m23.2.1\u001b[0m\u001b[39;49m -> \u001b[0m\u001b[32;49m23.3.1\u001b[0m\n",
      "\u001b[1m[\u001b[0m\u001b[34;49mnotice\u001b[0m\u001b[1;39;49m]\u001b[0m\u001b[39;49m To update, run: \u001b[0m\u001b[32;49mpip3.11 install --upgrade pip\u001b[0m\n",
      "Note: you may need to restart the kernel to use updated packages.\n",
      "Collecting beautifulsoup4\n",
      "  Using cached beautifulsoup4-4.12.2-py3-none-any.whl (142 kB)\n",
      "Collecting soupsieve>1.2 (from beautifulsoup4)\n",
      "  Obtaining dependency information for soupsieve>1.2 from https://files.pythonhosted.org/packages/4c/f3/038b302fdfbe3be7da016777069f26ceefe11a681055ea1f7817546508e3/soupsieve-2.5-py3-none-any.whl.metadata\n",
      "  Using cached soupsieve-2.5-py3-none-any.whl.metadata (4.7 kB)\n",
      "Using cached soupsieve-2.5-py3-none-any.whl (36 kB)\n",
      "Installing collected packages: soupsieve, beautifulsoup4\n",
      "Successfully installed beautifulsoup4-4.12.2 soupsieve-2.5\n",
      "\n",
      "\u001b[1m[\u001b[0m\u001b[34;49mnotice\u001b[0m\u001b[1;39;49m]\u001b[0m\u001b[39;49m A new release of pip is available: \u001b[0m\u001b[31;49m23.2.1\u001b[0m\u001b[39;49m -> \u001b[0m\u001b[32;49m23.3.1\u001b[0m\n",
      "\u001b[1m[\u001b[0m\u001b[34;49mnotice\u001b[0m\u001b[1;39;49m]\u001b[0m\u001b[39;49m To update, run: \u001b[0m\u001b[32;49mpip3.11 install --upgrade pip\u001b[0m\n",
      "Note: you may need to restart the kernel to use updated packages.\n"
     ]
    }
   ],
   "source": [
    "%pip install requests\n",
    "%pip install beautifulsoup4"
   ]
  },
  {
   "cell_type": "code",
   "execution_count": 12,
   "metadata": {},
   "outputs": [],
   "source": [
    "import requests\n",
    "from bs4 import BeautifulSoup\n",
    "import os"
   ]
  },
  {
   "cell_type": "code",
   "execution_count": 13,
   "id": "8bde93acba2ace5a",
   "metadata": {
    "ExecuteTime": {
     "end_time": "2023-11-06T21:05:03.799794Z",
     "start_time": "2023-11-06T21:05:02.987348Z"
    },
    "collapsed": false
   },
   "outputs": [],
   "source": [
    "def image_scrapper(base_url,limit_page, prefix=None ,primary_html_tag=None, primary_selector=None, primary_class_name=None,\n",
    "                   secondary_html_tag=None, secondary_selector=None, \n",
    "                   secondary_class_name=None,output_folder=None, custom_data=None, max_counter=None):\n",
    "    \n",
    "\n",
    "    for number_page in range(1,limit_page):\n",
    "    \n",
    "        url=f\"{base_url}{prefix}page={number_page}\"\n",
    "\n",
    "        get_sites = requests.get(url)  \n",
    "\n",
    "\n",
    "        if not os.path.exists(output_folder):\n",
    "            os.mkdir(output_folder)\n",
    "            \n",
    "        soup = BeautifulSoup(get_sites.content, 'html.parser')\n",
    "\n",
    "        get_container = soup.find(primary_html_tag,{primary_selector:primary_class_name})\n",
    "     \n",
    "        get_images_tags =  get_container.find_all(secondary_html_tag,{secondary_selector:secondary_class_name})\n",
    "\n",
    "        images = []\n",
    "        images.append(len(get_images_tags))\n",
    "        print(len(get_images_tags))\n",
    "\n",
    "       \n",
    "        for i, image in  enumerate(get_images_tags):                      \n",
    "\n",
    "                img = image[\"src\"]\n",
    "\n",
    "                part = img.split('.svg')[0]\n",
    "\n",
    "                format_img = \"{}.jpeg\".format(part)\n",
    "                flag = requests.get(format_img)\n",
    "                with open(f\"{output_folder}/{custom_data}{number_page}_{i}.jpeg\", 'ab') as file:\n",
    "                    file.write(flag.content)\n"
   ]
  },
  {
   "cell_type": "code",
   "execution_count": 14,
   "metadata": {},
   "outputs": [
    {
     "name": "stdout",
     "output_type": "stream",
     "text": [
      "100\n",
      "100\n",
      "100\n",
      "100\n",
      "100\n",
      "100\n",
      "100\n",
      "100\n",
      "100\n",
      "100\n",
      "100\n",
      "100\n",
      "100\n",
      "100\n",
      "100\n",
      "100\n"
     ]
    }
   ],
   "source": [
    "## Scrapping images of bees from vista.com \n",
    "site_url = \"https://create.vista.com/photos/bees/\"\n",
    "limit_page = 17\n",
    "prefix = \"?\"\n",
    "primary_html_tag = \"div\"\n",
    "primary_selector = \"class\"\n",
    "primary_class_name = \"assetsListWrapper-oDy7b\"\n",
    "secondary_html_tag=\"img\"\n",
    "secondary_selector=\"class\"\n",
    "secondary_class_name=\"media-3IiMe\"\n",
    "output_folder=\"bees\"\n",
    "custom_data=\"bee\"\n",
    "\n",
    "\n",
    "\n",
    "bees = image_scrapper(site_url ,limit_page,prefix,primary_html_tag,primary_selector,primary_class_name,\n",
    "             secondary_html_tag ,secondary_selector,secondary_class_name,output_folder,custom_data)"
   ]
  }
 ],
 "metadata": {
  "kernelspec": {
   "display_name": "Python 3",
   "language": "python",
   "name": "python3"
  },
  "language_info": {
   "codemirror_mode": {
    "name": "ipython",
    "version": 3
   },
   "file_extension": ".py",
   "mimetype": "text/x-python",
   "name": "python",
   "nbconvert_exporter": "python",
   "pygments_lexer": "ipython3",
   "version": "3.11.5"
  }
 },
 "nbformat": 4,
 "nbformat_minor": 5
}
